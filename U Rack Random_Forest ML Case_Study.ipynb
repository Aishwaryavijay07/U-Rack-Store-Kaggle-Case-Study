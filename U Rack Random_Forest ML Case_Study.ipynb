{
 "cells": [
  {
   "cell_type": "code",
   "execution_count": 1,
   "id": "e3101bcb",
   "metadata": {},
   "outputs": [],
   "source": [
    "import pandas as pd\n",
    "import numpy as np\n",
    "import matplotlib.pyplot\n",
    "from matplotlib import pyplot as plt\n",
    "import datetime\n",
    "import seaborn as sns\n"
   ]
  },
  {
   "cell_type": "code",
   "execution_count": 2,
   "id": "2eff4429",
   "metadata": {},
   "outputs": [
    {
     "name": "stdout",
     "output_type": "stream",
     "text": [
      "(949194, 9)\n"
     ]
    },
    {
     "data": {
      "text/html": [
       "<div>\n",
       "<style scoped>\n",
       "    .dataframe tbody tr th:only-of-type {\n",
       "        vertical-align: middle;\n",
       "    }\n",
       "\n",
       "    .dataframe tbody tr th {\n",
       "        vertical-align: top;\n",
       "    }\n",
       "\n",
       "    .dataframe thead th {\n",
       "        text-align: right;\n",
       "    }\n",
       "</style>\n",
       "<table border=\"1\" class=\"dataframe\">\n",
       "  <thead>\n",
       "    <tr style=\"text-align: right;\">\n",
       "      <th></th>\n",
       "      <th>StoreID</th>\n",
       "      <th>DOW</th>\n",
       "      <th>Date</th>\n",
       "      <th>Sales</th>\n",
       "      <th>StoreOpen</th>\n",
       "      <th>PromoFlag</th>\n",
       "      <th>HolidayFlag</th>\n",
       "      <th>SchUnivClose</th>\n",
       "      <th>month</th>\n",
       "    </tr>\n",
       "  </thead>\n",
       "  <tbody>\n",
       "    <tr>\n",
       "      <th>0</th>\n",
       "      <td>1</td>\n",
       "      <td>7</td>\n",
       "      <td>2015-05-31</td>\n",
       "      <td>0</td>\n",
       "      <td>0</td>\n",
       "      <td>0</td>\n",
       "      <td>0</td>\n",
       "      <td>0</td>\n",
       "      <td>May</td>\n",
       "    </tr>\n",
       "    <tr>\n",
       "      <th>1</th>\n",
       "      <td>2</td>\n",
       "      <td>7</td>\n",
       "      <td>2015-05-31</td>\n",
       "      <td>0</td>\n",
       "      <td>0</td>\n",
       "      <td>0</td>\n",
       "      <td>0</td>\n",
       "      <td>0</td>\n",
       "      <td>May</td>\n",
       "    </tr>\n",
       "    <tr>\n",
       "      <th>2</th>\n",
       "      <td>3</td>\n",
       "      <td>7</td>\n",
       "      <td>2015-05-31</td>\n",
       "      <td>0</td>\n",
       "      <td>0</td>\n",
       "      <td>0</td>\n",
       "      <td>0</td>\n",
       "      <td>0</td>\n",
       "      <td>May</td>\n",
       "    </tr>\n",
       "    <tr>\n",
       "      <th>3</th>\n",
       "      <td>4</td>\n",
       "      <td>7</td>\n",
       "      <td>2015-05-31</td>\n",
       "      <td>0</td>\n",
       "      <td>0</td>\n",
       "      <td>0</td>\n",
       "      <td>0</td>\n",
       "      <td>0</td>\n",
       "      <td>May</td>\n",
       "    </tr>\n",
       "    <tr>\n",
       "      <th>4</th>\n",
       "      <td>5</td>\n",
       "      <td>7</td>\n",
       "      <td>2015-05-31</td>\n",
       "      <td>0</td>\n",
       "      <td>0</td>\n",
       "      <td>0</td>\n",
       "      <td>0</td>\n",
       "      <td>0</td>\n",
       "      <td>May</td>\n",
       "    </tr>\n",
       "  </tbody>\n",
       "</table>\n",
       "</div>"
      ],
      "text/plain": [
       "   StoreID  DOW       Date  Sales  StoreOpen  PromoFlag HolidayFlag  \\\n",
       "0        1    7 2015-05-31      0          0          0           0   \n",
       "1        2    7 2015-05-31      0          0          0           0   \n",
       "2        3    7 2015-05-31      0          0          0           0   \n",
       "3        4    7 2015-05-31      0          0          0           0   \n",
       "4        5    7 2015-05-31      0          0          0           0   \n",
       "\n",
       "   SchUnivClose month  \n",
       "0             0   May  \n",
       "1             0   May  \n",
       "2             0   May  \n",
       "3             0   May  \n",
       "4             0   May  "
      ]
     },
     "execution_count": 2,
     "metadata": {},
     "output_type": "execute_result"
    }
   ],
   "source": [
    "#Train dataset\n",
    "past_sales= pd.read_csv('train.csv', low_memory=False)\n",
    "past_sales['Date'] = pd.to_datetime(past_sales['Date'], format='%d-%m-%Y')\n",
    "past_sales['HolidayFlag'] = past_sales['HolidayFlag'].replace({0:'0'})\n",
    "past_sales['month'] = past_sales['Date'].dt.strftime('%b')\n",
    "print(past_sales.shape)\n",
    "past_sales.head()"
   ]
  },
  {
   "cell_type": "code",
   "execution_count": 3,
   "id": "cace0091",
   "metadata": {},
   "outputs": [
    {
     "data": {
      "text/html": [
       "<div>\n",
       "<style scoped>\n",
       "    .dataframe tbody tr th:only-of-type {\n",
       "        vertical-align: middle;\n",
       "    }\n",
       "\n",
       "    .dataframe tbody tr th {\n",
       "        vertical-align: top;\n",
       "    }\n",
       "\n",
       "    .dataframe thead th {\n",
       "        text-align: right;\n",
       "    }\n",
       "</style>\n",
       "<table border=\"1\" class=\"dataframe\">\n",
       "  <thead>\n",
       "    <tr style=\"text-align: right;\">\n",
       "      <th></th>\n",
       "      <th>Sales</th>\n",
       "    </tr>\n",
       "  </thead>\n",
       "  <tbody>\n",
       "    <tr>\n",
       "      <th>count</th>\n",
       "      <td>949194.000000</td>\n",
       "    </tr>\n",
       "    <tr>\n",
       "      <th>mean</th>\n",
       "      <td>5745.395182</td>\n",
       "    </tr>\n",
       "    <tr>\n",
       "      <th>std</th>\n",
       "      <td>3851.817831</td>\n",
       "    </tr>\n",
       "    <tr>\n",
       "      <th>min</th>\n",
       "      <td>0.000000</td>\n",
       "    </tr>\n",
       "    <tr>\n",
       "      <th>25%</th>\n",
       "      <td>3691.000000</td>\n",
       "    </tr>\n",
       "    <tr>\n",
       "      <th>50%</th>\n",
       "      <td>5720.000000</td>\n",
       "    </tr>\n",
       "    <tr>\n",
       "      <th>75%</th>\n",
       "      <td>7830.000000</td>\n",
       "    </tr>\n",
       "    <tr>\n",
       "      <th>max</th>\n",
       "      <td>38722.000000</td>\n",
       "    </tr>\n",
       "  </tbody>\n",
       "</table>\n",
       "</div>"
      ],
      "text/plain": [
       "               Sales\n",
       "count  949194.000000\n",
       "mean     5745.395182\n",
       "std      3851.817831\n",
       "min         0.000000\n",
       "25%      3691.000000\n",
       "50%      5720.000000\n",
       "75%      7830.000000\n",
       "max     38722.000000"
      ]
     },
     "execution_count": 3,
     "metadata": {},
     "output_type": "execute_result"
    }
   ],
   "source": [
    "num_cols = ['Sales']\n",
    "past_sales[num_cols].describe()"
   ]
  },
  {
   "cell_type": "code",
   "execution_count": 4,
   "id": "be99fbe2",
   "metadata": {},
   "outputs": [
    {
     "data": {
      "text/html": [
       "<div>\n",
       "<style scoped>\n",
       "    .dataframe tbody tr th:only-of-type {\n",
       "        vertical-align: middle;\n",
       "    }\n",
       "\n",
       "    .dataframe tbody tr th {\n",
       "        vertical-align: top;\n",
       "    }\n",
       "\n",
       "    .dataframe thead th {\n",
       "        text-align: right;\n",
       "    }\n",
       "</style>\n",
       "<table border=\"1\" class=\"dataframe\">\n",
       "  <thead>\n",
       "    <tr style=\"text-align: right;\">\n",
       "      <th></th>\n",
       "      <th>StoreID</th>\n",
       "      <th>DOW</th>\n",
       "      <th>PromoFlag</th>\n",
       "      <th>HolidayFlag</th>\n",
       "      <th>SchUnivClose</th>\n",
       "      <th>StoreOpen</th>\n",
       "    </tr>\n",
       "  </thead>\n",
       "  <tbody>\n",
       "    <tr>\n",
       "      <th>count</th>\n",
       "      <td>949194</td>\n",
       "      <td>949194</td>\n",
       "      <td>949194</td>\n",
       "      <td>949194</td>\n",
       "      <td>949194</td>\n",
       "      <td>949194</td>\n",
       "    </tr>\n",
       "    <tr>\n",
       "      <th>unique</th>\n",
       "      <td>1115</td>\n",
       "      <td>7</td>\n",
       "      <td>2</td>\n",
       "      <td>4</td>\n",
       "      <td>2</td>\n",
       "      <td>2</td>\n",
       "    </tr>\n",
       "    <tr>\n",
       "      <th>top</th>\n",
       "      <td>1</td>\n",
       "      <td>4</td>\n",
       "      <td>0</td>\n",
       "      <td>0</td>\n",
       "      <td>0</td>\n",
       "      <td>1</td>\n",
       "    </tr>\n",
       "    <tr>\n",
       "      <th>freq</th>\n",
       "      <td>881</td>\n",
       "      <td>135810</td>\n",
       "      <td>588989</td>\n",
       "      <td>918910</td>\n",
       "      <td>782087</td>\n",
       "      <td>785781</td>\n",
       "    </tr>\n",
       "  </tbody>\n",
       "</table>\n",
       "</div>"
      ],
      "text/plain": [
       "        StoreID     DOW  PromoFlag HolidayFlag  SchUnivClose  StoreOpen\n",
       "count    949194  949194     949194      949194        949194     949194\n",
       "unique     1115       7          2           4             2          2\n",
       "top           1       4          0           0             0          1\n",
       "freq        881  135810     588989      918910        782087     785781"
      ]
     },
     "execution_count": 4,
     "metadata": {},
     "output_type": "execute_result"
    }
   ],
   "source": [
    "cat_cols = ['StoreID', 'DOW', 'PromoFlag', 'HolidayFlag', 'SchUnivClose', 'StoreOpen']\n",
    "past_sales[cat_cols].astype(object).describe(include=object)"
   ]
  },
  {
   "cell_type": "code",
   "execution_count": 5,
   "id": "614d2bdb",
   "metadata": {},
   "outputs": [
    {
     "data": {
      "text/plain": [
       "array(['0', 'h1', 'h2', 'h3'], dtype=object)"
      ]
     },
     "execution_count": 5,
     "metadata": {},
     "output_type": "execute_result"
    }
   ],
   "source": [
    "past_sales['HolidayFlag'].unique()"
   ]
  },
  {
   "cell_type": "code",
   "execution_count": 6,
   "id": "97bb1398",
   "metadata": {},
   "outputs": [
    {
     "name": "stderr",
     "output_type": "stream",
     "text": [
      "<ipython-input-6-9f73c4c64756>:2: FutureWarning: Treating datetime data as categorical rather than numeric in `.describe` is deprecated and will be removed in a future version of pandas. Specify `datetime_is_numeric=True` to silence this warning and adopt the future behavior now.\n",
      "  past_sales[date_cols].describe()\n"
     ]
    },
    {
     "data": {
      "text/html": [
       "<div>\n",
       "<style scoped>\n",
       "    .dataframe tbody tr th:only-of-type {\n",
       "        vertical-align: middle;\n",
       "    }\n",
       "\n",
       "    .dataframe tbody tr th {\n",
       "        vertical-align: top;\n",
       "    }\n",
       "\n",
       "    .dataframe thead th {\n",
       "        text-align: right;\n",
       "    }\n",
       "</style>\n",
       "<table border=\"1\" class=\"dataframe\">\n",
       "  <thead>\n",
       "    <tr style=\"text-align: right;\">\n",
       "      <th></th>\n",
       "      <th>Date</th>\n",
       "    </tr>\n",
       "  </thead>\n",
       "  <tbody>\n",
       "    <tr>\n",
       "      <th>count</th>\n",
       "      <td>949194</td>\n",
       "    </tr>\n",
       "    <tr>\n",
       "      <th>unique</th>\n",
       "      <td>881</td>\n",
       "    </tr>\n",
       "    <tr>\n",
       "      <th>top</th>\n",
       "      <td>2015-01-30 00:00:00</td>\n",
       "    </tr>\n",
       "    <tr>\n",
       "      <th>freq</th>\n",
       "      <td>1115</td>\n",
       "    </tr>\n",
       "    <tr>\n",
       "      <th>first</th>\n",
       "      <td>2013-01-01 00:00:00</td>\n",
       "    </tr>\n",
       "    <tr>\n",
       "      <th>last</th>\n",
       "      <td>2015-05-31 00:00:00</td>\n",
       "    </tr>\n",
       "  </tbody>\n",
       "</table>\n",
       "</div>"
      ],
      "text/plain": [
       "                       Date\n",
       "count                949194\n",
       "unique                  881\n",
       "top     2015-01-30 00:00:00\n",
       "freq                   1115\n",
       "first   2013-01-01 00:00:00\n",
       "last    2015-05-31 00:00:00"
      ]
     },
     "execution_count": 6,
     "metadata": {},
     "output_type": "execute_result"
    }
   ],
   "source": [
    "date_cols = ['Date']\n",
    "past_sales[date_cols].describe()"
   ]
  },
  {
   "cell_type": "code",
   "execution_count": 7,
   "id": "e165aa81",
   "metadata": {},
   "outputs": [
    {
     "data": {
      "text/plain": [
       "StoreID         0\n",
       "DOW             0\n",
       "Date            0\n",
       "Sales           0\n",
       "StoreOpen       0\n",
       "PromoFlag       0\n",
       "HolidayFlag     0\n",
       "SchUnivClose    0\n",
       "month           0\n",
       "dtype: int64"
      ]
     },
     "execution_count": 7,
     "metadata": {},
     "output_type": "execute_result"
    }
   ],
   "source": [
    "past_sales.isna().sum()"
   ]
  },
  {
   "cell_type": "code",
   "execution_count": 8,
   "id": "4b0213b6",
   "metadata": {},
   "outputs": [
    {
     "data": {
      "text/plain": [
       "(982315, 949194, 33121)"
      ]
     },
     "execution_count": 8,
     "metadata": {},
     "output_type": "execute_result"
    }
   ],
   "source": [
    "1115 * 881, past_sales.shape[0], 1115 * 881 - past_sales.shape[0]"
   ]
  },
  {
   "cell_type": "code",
   "execution_count": 9,
   "id": "8d4a046d",
   "metadata": {},
   "outputs": [
    {
     "data": {
      "text/plain": [
       "1    785781\n",
       "0    163413\n",
       "Name: StoreOpen, dtype: int64"
      ]
     },
     "execution_count": 9,
     "metadata": {},
     "output_type": "execute_result"
    }
   ],
   "source": [
    "past_sales['StoreOpen'].value_counts()"
   ]
  },
  {
   "cell_type": "code",
   "execution_count": 10,
   "id": "582b7193",
   "metadata": {},
   "outputs": [
    {
     "data": {
      "image/png": "[encoded data removed]",
      "text/plain": [
       "<Figure size 1008x288 with 1 Axes>"
      ]
     },
     "metadata": {
      "needs_background": "light"
     },
     "output_type": "display_data"
    }
   ],
   "source": [
    "sample = past_sales[past_sales['StoreID'] == 233]\n",
    "sample.set_index('Date')['Sales'].plot.line(figsize=(14,4));"
   ]
  },
  {
   "cell_type": "code",
   "execution_count": 11,
   "id": "6e2de018",
   "metadata": {},
   "outputs": [
    {
     "data": {
      "text/plain": [
       "0"
      ]
     },
     "execution_count": 11,
     "metadata": {},
     "output_type": "execute_result"
    }
   ],
   "source": [
    "past_sales[past_sales['StoreOpen'] == 0]['Sales'].min()"
   ]
  },
  {
   "cell_type": "code",
   "execution_count": 12,
   "id": "38286f5d",
   "metadata": {},
   "outputs": [
    {
     "data": {
      "text/plain": [
       "0"
      ]
     },
     "execution_count": 12,
     "metadata": {},
     "output_type": "execute_result"
    }
   ],
   "source": [
    "past_sales[past_sales['StoreOpen'] == 1]['Sales'].min()"
   ]
  },
  {
   "cell_type": "code",
   "execution_count": 13,
   "id": "d61774d7",
   "metadata": {},
   "outputs": [
    {
     "data": {
      "text/plain": [
       "<AxesSubplot:ylabel='Frequency'>"
      ]
     },
     "execution_count": 13,
     "metadata": {},
     "output_type": "execute_result"
    },
    {
     "data": {
      "image/png": "[encoded data removed]",
      "text/plain": [
       "<Figure size 432x288 with 1 Axes>"
      ]
     },
     "metadata": {
      "needs_background": "light"
     },
     "output_type": "display_data"
    }
   ],
   "source": [
    "past_sales['Sales'].plot.hist()"
   ]
  },
  {
   "cell_type": "code",
   "execution_count": 14,
   "id": "26f05307",
   "metadata": {},
   "outputs": [
    {
     "data": {
      "text/plain": [
       "0.6451527011695629"
      ]
     },
     "execution_count": 14,
     "metadata": {},
     "output_type": "execute_result"
    }
   ],
   "source": [
    "past_sales['Sales'].skew()"
   ]
  },
  {
   "cell_type": "code",
   "execution_count": 15,
   "id": "5f0d0ce6",
   "metadata": {},
   "outputs": [
    {
     "data": {
      "text/plain": [
       "<AxesSubplot:xlabel='StoreID'>"
      ]
     },
     "execution_count": 15,
     "metadata": {},
     "output_type": "execute_result"
    },
    {
     "data": {
      "image/png": "[encoded data removed]",
      "text/plain": [
       "<Figure size 432x288 with 1 Axes>"
      ]
     },
     "metadata": {
      "needs_background": "light"
     },
     "output_type": "display_data"
    }
   ],
   "source": [
    "past_sales.groupby('StoreID')['Sales'].mean().sort_values(ascending=False).head(200).plot.bar()"
   ]
  },
  {
   "cell_type": "code",
   "execution_count": 16,
   "id": "6a241ebb",
   "metadata": {},
   "outputs": [
    {
     "data": {
      "text/plain": [
       "0.00     2237.477866\n",
       "0.25     4381.520974\n",
       "0.50     5432.586833\n",
       "0.75     6589.870034\n",
       "1.00    20695.578888\n",
       "Name: Sales, dtype: float64"
      ]
     },
     "execution_count": 16,
     "metadata": {},
     "output_type": "execute_result"
    }
   ],
   "source": [
    "past_sales.groupby('StoreID')['Sales'].mean().quantile([0,0.25,0.5,0.75,1])"
   ]
  },
  {
   "cell_type": "code",
   "execution_count": 17,
   "id": "73df2689",
   "metadata": {},
   "outputs": [
    {
     "data": {
      "text/plain": [
       "<AxesSubplot:xlabel='month'>"
      ]
     },
     "execution_count": 17,
     "metadata": {},
     "output_type": "execute_result"
    },
    {
     "data": {
      "image/png": "[encoded data removed]",
      "text/plain": [
       "<Figure size 432x288 with 1 Axes>"
      ]
     },
     "metadata": {
      "needs_background": "light"
     },
     "output_type": "display_data"
    }
   ],
   "source": [
    "past_sales.groupby('month')['Sales'].mean().plot.bar()"
   ]
  },
  {
   "cell_type": "code",
   "execution_count": 18,
   "id": "464cabe5",
   "metadata": {},
   "outputs": [
    {
     "data": {
      "text/plain": [
       "<AxesSubplot:xlabel='PromoFlag'>"
      ]
     },
     "execution_count": 18,
     "metadata": {},
     "output_type": "execute_result"
    },
    {
     "data": {
      "image/png": "[encoded data removed]",
      "text/plain": [
       "<Figure size 432x288 with 1 Axes>"
      ]
     },
     "metadata": {
      "needs_background": "light"
     },
     "output_type": "display_data"
    }
   ],
   "source": [
    "past_sales.groupby('PromoFlag')['Sales'].mean().plot.bar()"
   ]
  },
  {
   "cell_type": "code",
   "execution_count": 19,
   "id": "651ebcf2",
   "metadata": {},
   "outputs": [
    {
     "data": {
      "text/plain": [
       "<AxesSubplot:xlabel='StoreOpen'>"
      ]
     },
     "execution_count": 19,
     "metadata": {},
     "output_type": "execute_result"
    },
    {
     "data": {
      "image/png": "[encoded data removed]",
      "text/plain": [
       "<Figure size 432x288 with 1 Axes>"
      ]
     },
     "metadata": {
      "needs_background": "light"
     },
     "output_type": "display_data"
    }
   ],
   "source": [
    "past_sales.groupby('StoreOpen')['Sales'].mean().plot.bar()"
   ]
  },
  {
   "cell_type": "code",
   "execution_count": 20,
   "id": "db1ad77c",
   "metadata": {},
   "outputs": [
    {
     "data": {
      "text/plain": [
       "<AxesSubplot:xlabel='HolidayFlag'>"
      ]
     },
     "execution_count": 20,
     "metadata": {},
     "output_type": "execute_result"
    },
    {
     "data": {
      "image/png": "[encoded data removed]",
      "text/plain": [
       "<Figure size 432x288 with 1 Axes>"
      ]
     },
     "metadata": {
      "needs_background": "light"
     },
     "output_type": "display_data"
    }
   ],
   "source": [
    "past_sales.groupby('HolidayFlag')['Sales'].mean().plot.bar()"
   ]
  },
  {
   "cell_type": "code",
   "execution_count": 21,
   "id": "77daa8a9",
   "metadata": {},
   "outputs": [
    {
     "data": {
      "text/plain": [
       "<AxesSubplot:xlabel='SchUnivClose'>"
      ]
     },
     "execution_count": 21,
     "metadata": {},
     "output_type": "execute_result"
    },
    {
     "data": {
      "image/png": "[encoded data removed]",
      "text/plain": [
       "<Figure size 432x288 with 1 Axes>"
      ]
     },
     "metadata": {
      "needs_background": "light"
     },
     "output_type": "display_data"
    }
   ],
   "source": [
    "past_sales.groupby('SchUnivClose')['Sales'].mean().plot.bar()"
   ]
  },
  {
   "cell_type": "code",
   "execution_count": 22,
   "id": "fb6e3204",
   "metadata": {},
   "outputs": [
    {
     "name": "stdout",
     "output_type": "stream",
     "text": [
      "(1115, 9)\n"
     ]
    },
    {
     "data": {
      "text/html": [
       "<div>\n",
       "<style scoped>\n",
       "    .dataframe tbody tr th:only-of-type {\n",
       "        vertical-align: middle;\n",
       "    }\n",
       "\n",
       "    .dataframe tbody tr th {\n",
       "        vertical-align: top;\n",
       "    }\n",
       "\n",
       "    .dataframe thead th {\n",
       "        text-align: right;\n",
       "    }\n",
       "</style>\n",
       "<table border=\"1\" class=\"dataframe\">\n",
       "  <thead>\n",
       "    <tr style=\"text-align: right;\">\n",
       "      <th></th>\n",
       "      <th>StoreID</th>\n",
       "      <th>LocalityType</th>\n",
       "      <th>ProductMix</th>\n",
       "      <th>PromoCont</th>\n",
       "      <th>PromoContStartWeek</th>\n",
       "      <th>PromoContStartYear</th>\n",
       "      <th>CompetitionDistance</th>\n",
       "      <th>CompetitionMonth</th>\n",
       "      <th>CompetitionYear</th>\n",
       "    </tr>\n",
       "  </thead>\n",
       "  <tbody>\n",
       "    <tr>\n",
       "      <th>0</th>\n",
       "      <td>1</td>\n",
       "      <td>type3</td>\n",
       "      <td>Essentials</td>\n",
       "      <td>0</td>\n",
       "      <td>NaN</td>\n",
       "      <td>NaN</td>\n",
       "      <td>1270.0</td>\n",
       "      <td>9.0</td>\n",
       "      <td>2008.0</td>\n",
       "    </tr>\n",
       "    <tr>\n",
       "      <th>1</th>\n",
       "      <td>2</td>\n",
       "      <td>type1</td>\n",
       "      <td>Essentials</td>\n",
       "      <td>1</td>\n",
       "      <td>13.0</td>\n",
       "      <td>2010.0</td>\n",
       "      <td>570.0</td>\n",
       "      <td>11.0</td>\n",
       "      <td>2007.0</td>\n",
       "    </tr>\n",
       "    <tr>\n",
       "      <th>2</th>\n",
       "      <td>3</td>\n",
       "      <td>type1</td>\n",
       "      <td>Essentials</td>\n",
       "      <td>1</td>\n",
       "      <td>14.0</td>\n",
       "      <td>2011.0</td>\n",
       "      <td>14130.0</td>\n",
       "      <td>12.0</td>\n",
       "      <td>2006.0</td>\n",
       "    </tr>\n",
       "    <tr>\n",
       "      <th>3</th>\n",
       "      <td>4</td>\n",
       "      <td>type3</td>\n",
       "      <td>LargeVariety</td>\n",
       "      <td>0</td>\n",
       "      <td>NaN</td>\n",
       "      <td>NaN</td>\n",
       "      <td>620.0</td>\n",
       "      <td>9.0</td>\n",
       "      <td>2009.0</td>\n",
       "    </tr>\n",
       "    <tr>\n",
       "      <th>4</th>\n",
       "      <td>5</td>\n",
       "      <td>type1</td>\n",
       "      <td>Essentials</td>\n",
       "      <td>0</td>\n",
       "      <td>NaN</td>\n",
       "      <td>NaN</td>\n",
       "      <td>29910.0</td>\n",
       "      <td>4.0</td>\n",
       "      <td>2015.0</td>\n",
       "    </tr>\n",
       "  </tbody>\n",
       "</table>\n",
       "</div>"
      ],
      "text/plain": [
       "   StoreID LocalityType    ProductMix  PromoCont  PromoContStartWeek  \\\n",
       "0        1        type3    Essentials          0                 NaN   \n",
       "1        2        type1    Essentials          1                13.0   \n",
       "2        3        type1    Essentials          1                14.0   \n",
       "3        4        type3  LargeVariety          0                 NaN   \n",
       "4        5        type1    Essentials          0                 NaN   \n",
       "\n",
       "   PromoContStartYear  CompetitionDistance  CompetitionMonth  CompetitionYear  \n",
       "0                 NaN               1270.0               9.0           2008.0  \n",
       "1              2010.0                570.0              11.0           2007.0  \n",
       "2              2011.0              14130.0              12.0           2006.0  \n",
       "3                 NaN                620.0               9.0           2009.0  \n",
       "4                 NaN              29910.0               4.0           2015.0  "
      ]
     },
     "execution_count": 22,
     "metadata": {},
     "output_type": "execute_result"
    }
   ],
   "source": [
    "#Store dataset\n",
    "store = pd.read_csv('store.csv', low_memory=False)\n",
    "print(store.shape)\n",
    "store.head()"
   ]
  },
  {
   "cell_type": "code",
   "execution_count": 23,
   "id": "794456d1",
   "metadata": {},
   "outputs": [
    {
     "data": {
      "text/plain": [
       "StoreID                 0.000000\n",
       "LocalityType            0.000000\n",
       "ProductMix              0.000000\n",
       "PromoCont               0.000000\n",
       "PromoContStartWeek     48.789238\n",
       "PromoContStartYear     48.789238\n",
       "CompetitionDistance     0.269058\n",
       "CompetitionMonth       31.748879\n",
       "CompetitionYear        31.748879\n",
       "dtype: float64"
      ]
     },
     "execution_count": 23,
     "metadata": {},
     "output_type": "execute_result"
    }
   ],
   "source": [
    "store.isna().sum() / store.shape[0] * 100"
   ]
  },
  {
   "cell_type": "code",
   "execution_count": 24,
   "id": "813222fb",
   "metadata": {},
   "outputs": [],
   "source": [
    "drop_cols = ['CompetitionMonth', 'CompetitionYear',\n",
    "             'PromoContStartWeek', 'PromoContStartYear']\n",
    "\n",
    "store['CompetitionDistance'] = store['CompetitionDistance'].fillna(0)\n"
   ]
  },
  {
   "cell_type": "code",
   "execution_count": 25,
   "id": "a0810d81",
   "metadata": {},
   "outputs": [
    {
     "data": {
      "text/html": [
       "<div>\n",
       "<style scoped>\n",
       "    .dataframe tbody tr th:only-of-type {\n",
       "        vertical-align: middle;\n",
       "    }\n",
       "\n",
       "    .dataframe tbody tr th {\n",
       "        vertical-align: top;\n",
       "    }\n",
       "\n",
       "    .dataframe thead th {\n",
       "        text-align: right;\n",
       "    }\n",
       "</style>\n",
       "<table border=\"1\" class=\"dataframe\">\n",
       "  <thead>\n",
       "    <tr style=\"text-align: right;\">\n",
       "      <th></th>\n",
       "      <th>StoreID</th>\n",
       "      <th>DOW</th>\n",
       "      <th>Date</th>\n",
       "      <th>Sales</th>\n",
       "      <th>StoreOpen</th>\n",
       "      <th>PromoFlag</th>\n",
       "      <th>HolidayFlag</th>\n",
       "      <th>SchUnivClose</th>\n",
       "      <th>month</th>\n",
       "      <th>LocalityType</th>\n",
       "      <th>ProductMix</th>\n",
       "      <th>PromoCont</th>\n",
       "      <th>CompetitionDistance</th>\n",
       "    </tr>\n",
       "  </thead>\n",
       "  <tbody>\n",
       "    <tr>\n",
       "      <th>0</th>\n",
       "      <td>1</td>\n",
       "      <td>7</td>\n",
       "      <td>2015-05-31</td>\n",
       "      <td>0</td>\n",
       "      <td>0</td>\n",
       "      <td>0</td>\n",
       "      <td>0</td>\n",
       "      <td>0</td>\n",
       "      <td>May</td>\n",
       "      <td>type3</td>\n",
       "      <td>Essentials</td>\n",
       "      <td>0</td>\n",
       "      <td>1270.0</td>\n",
       "    </tr>\n",
       "    <tr>\n",
       "      <th>1</th>\n",
       "      <td>2</td>\n",
       "      <td>7</td>\n",
       "      <td>2015-05-31</td>\n",
       "      <td>0</td>\n",
       "      <td>0</td>\n",
       "      <td>0</td>\n",
       "      <td>0</td>\n",
       "      <td>0</td>\n",
       "      <td>May</td>\n",
       "      <td>type1</td>\n",
       "      <td>Essentials</td>\n",
       "      <td>1</td>\n",
       "      <td>570.0</td>\n",
       "    </tr>\n",
       "    <tr>\n",
       "      <th>2</th>\n",
       "      <td>3</td>\n",
       "      <td>7</td>\n",
       "      <td>2015-05-31</td>\n",
       "      <td>0</td>\n",
       "      <td>0</td>\n",
       "      <td>0</td>\n",
       "      <td>0</td>\n",
       "      <td>0</td>\n",
       "      <td>May</td>\n",
       "      <td>type1</td>\n",
       "      <td>Essentials</td>\n",
       "      <td>1</td>\n",
       "      <td>14130.0</td>\n",
       "    </tr>\n",
       "    <tr>\n",
       "      <th>3</th>\n",
       "      <td>4</td>\n",
       "      <td>7</td>\n",
       "      <td>2015-05-31</td>\n",
       "      <td>0</td>\n",
       "      <td>0</td>\n",
       "      <td>0</td>\n",
       "      <td>0</td>\n",
       "      <td>0</td>\n",
       "      <td>May</td>\n",
       "      <td>type3</td>\n",
       "      <td>LargeVariety</td>\n",
       "      <td>0</td>\n",
       "      <td>620.0</td>\n",
       "    </tr>\n",
       "    <tr>\n",
       "      <th>4</th>\n",
       "      <td>5</td>\n",
       "      <td>7</td>\n",
       "      <td>2015-05-31</td>\n",
       "      <td>0</td>\n",
       "      <td>0</td>\n",
       "      <td>0</td>\n",
       "      <td>0</td>\n",
       "      <td>0</td>\n",
       "      <td>May</td>\n",
       "      <td>type1</td>\n",
       "      <td>Essentials</td>\n",
       "      <td>0</td>\n",
       "      <td>29910.0</td>\n",
       "    </tr>\n",
       "  </tbody>\n",
       "</table>\n",
       "</div>"
      ],
      "text/plain": [
       "   StoreID  DOW       Date  Sales  StoreOpen  PromoFlag HolidayFlag  \\\n",
       "0        1    7 2015-05-31      0          0          0           0   \n",
       "1        2    7 2015-05-31      0          0          0           0   \n",
       "2        3    7 2015-05-31      0          0          0           0   \n",
       "3        4    7 2015-05-31      0          0          0           0   \n",
       "4        5    7 2015-05-31      0          0          0           0   \n",
       "\n",
       "   SchUnivClose month LocalityType    ProductMix  PromoCont  \\\n",
       "0             0   May        type3    Essentials          0   \n",
       "1             0   May        type1    Essentials          1   \n",
       "2             0   May        type1    Essentials          1   \n",
       "3             0   May        type3  LargeVariety          0   \n",
       "4             0   May        type1    Essentials          0   \n",
       "\n",
       "   CompetitionDistance  \n",
       "0               1270.0  \n",
       "1                570.0  \n",
       "2              14130.0  \n",
       "3                620.0  \n",
       "4              29910.0  "
      ]
     },
     "execution_count": 25,
     "metadata": {},
     "output_type": "execute_result"
    }
   ],
   "source": [
    "past_sales_merged = pd.merge(left=past_sales, right=store.drop(drop_cols ,axis=1) , on='StoreID', how='left')\n",
    "past_sales.shape, past_sales_merged.shape\n",
    "past_sales_merged.head()"
   ]
  },
  {
   "cell_type": "code",
   "execution_count": 26,
   "id": "1dc44117",
   "metadata": {},
   "outputs": [
    {
     "data": {
      "text/html": [
       "<div>\n",
       "<style scoped>\n",
       "    .dataframe tbody tr th:only-of-type {\n",
       "        vertical-align: middle;\n",
       "    }\n",
       "\n",
       "    .dataframe tbody tr th {\n",
       "        vertical-align: top;\n",
       "    }\n",
       "\n",
       "    .dataframe thead th {\n",
       "        text-align: right;\n",
       "    }\n",
       "</style>\n",
       "<table border=\"1\" class=\"dataframe\">\n",
       "  <thead>\n",
       "    <tr style=\"text-align: right;\">\n",
       "      <th></th>\n",
       "      <th>StoreID</th>\n",
       "      <th>DOW</th>\n",
       "      <th>Date</th>\n",
       "      <th>Sales</th>\n",
       "      <th>StoreOpen</th>\n",
       "      <th>PromoFlag</th>\n",
       "      <th>HolidayFlag</th>\n",
       "      <th>SchUnivClose</th>\n",
       "      <th>month</th>\n",
       "      <th>LocalityType</th>\n",
       "      <th>ProductMix</th>\n",
       "      <th>PromoCont</th>\n",
       "      <th>CompetitionDistance</th>\n",
       "    </tr>\n",
       "  </thead>\n",
       "  <tbody>\n",
       "    <tr>\n",
       "      <th>84</th>\n",
       "      <td>85</td>\n",
       "      <td>7</td>\n",
       "      <td>2015-05-31</td>\n",
       "      <td>12040</td>\n",
       "      <td>1</td>\n",
       "      <td>0</td>\n",
       "      <td>0</td>\n",
       "      <td>0</td>\n",
       "      <td>May</td>\n",
       "      <td>type2</td>\n",
       "      <td>Essentials</td>\n",
       "      <td>0</td>\n",
       "      <td>1870.0</td>\n",
       "    </tr>\n",
       "    <tr>\n",
       "      <th>121</th>\n",
       "      <td>122</td>\n",
       "      <td>7</td>\n",
       "      <td>2015-05-31</td>\n",
       "      <td>2737</td>\n",
       "      <td>1</td>\n",
       "      <td>0</td>\n",
       "      <td>0</td>\n",
       "      <td>0</td>\n",
       "      <td>May</td>\n",
       "      <td>type1</td>\n",
       "      <td>LargeVariety</td>\n",
       "      <td>0</td>\n",
       "      <td>58260.0</td>\n",
       "    </tr>\n",
       "    <tr>\n",
       "      <th>208</th>\n",
       "      <td>209</td>\n",
       "      <td>7</td>\n",
       "      <td>2015-05-31</td>\n",
       "      <td>1935</td>\n",
       "      <td>1</td>\n",
       "      <td>0</td>\n",
       "      <td>0</td>\n",
       "      <td>0</td>\n",
       "      <td>May</td>\n",
       "      <td>type1</td>\n",
       "      <td>LargeVariety</td>\n",
       "      <td>1</td>\n",
       "      <td>11680.0</td>\n",
       "    </tr>\n",
       "    <tr>\n",
       "      <th>258</th>\n",
       "      <td>259</td>\n",
       "      <td>7</td>\n",
       "      <td>2015-05-31</td>\n",
       "      <td>16944</td>\n",
       "      <td>1</td>\n",
       "      <td>0</td>\n",
       "      <td>0</td>\n",
       "      <td>0</td>\n",
       "      <td>May</td>\n",
       "      <td>type2</td>\n",
       "      <td>EssentialsPlus</td>\n",
       "      <td>0</td>\n",
       "      <td>210.0</td>\n",
       "    </tr>\n",
       "    <tr>\n",
       "      <th>261</th>\n",
       "      <td>262</td>\n",
       "      <td>7</td>\n",
       "      <td>2015-05-31</td>\n",
       "      <td>32400</td>\n",
       "      <td>1</td>\n",
       "      <td>0</td>\n",
       "      <td>0</td>\n",
       "      <td>0</td>\n",
       "      <td>May</td>\n",
       "      <td>type2</td>\n",
       "      <td>Essentials</td>\n",
       "      <td>0</td>\n",
       "      <td>1180.0</td>\n",
       "    </tr>\n",
       "    <tr>\n",
       "      <th>...</th>\n",
       "      <td>...</td>\n",
       "      <td>...</td>\n",
       "      <td>...</td>\n",
       "      <td>...</td>\n",
       "      <td>...</td>\n",
       "      <td>...</td>\n",
       "      <td>...</td>\n",
       "      <td>...</td>\n",
       "      <td>...</td>\n",
       "      <td>...</td>\n",
       "      <td>...</td>\n",
       "      <td>...</td>\n",
       "      <td>...</td>\n",
       "    </tr>\n",
       "    <tr>\n",
       "      <th>948761</th>\n",
       "      <td>682</td>\n",
       "      <td>2</td>\n",
       "      <td>2013-01-01</td>\n",
       "      <td>3375</td>\n",
       "      <td>1</td>\n",
       "      <td>0</td>\n",
       "      <td>h1</td>\n",
       "      <td>1</td>\n",
       "      <td>Jan</td>\n",
       "      <td>type2</td>\n",
       "      <td>Essentials</td>\n",
       "      <td>0</td>\n",
       "      <td>150.0</td>\n",
       "    </tr>\n",
       "    <tr>\n",
       "      <th>948812</th>\n",
       "      <td>733</td>\n",
       "      <td>2</td>\n",
       "      <td>2013-01-01</td>\n",
       "      <td>10765</td>\n",
       "      <td>1</td>\n",
       "      <td>0</td>\n",
       "      <td>h1</td>\n",
       "      <td>1</td>\n",
       "      <td>Jan</td>\n",
       "      <td>type2</td>\n",
       "      <td>EssentialsPlus</td>\n",
       "      <td>0</td>\n",
       "      <td>860.0</td>\n",
       "    </tr>\n",
       "    <tr>\n",
       "      <th>948848</th>\n",
       "      <td>769</td>\n",
       "      <td>2</td>\n",
       "      <td>2013-01-01</td>\n",
       "      <td>5035</td>\n",
       "      <td>1</td>\n",
       "      <td>0</td>\n",
       "      <td>h1</td>\n",
       "      <td>1</td>\n",
       "      <td>Jan</td>\n",
       "      <td>type2</td>\n",
       "      <td>EssentialsPlus</td>\n",
       "      <td>1</td>\n",
       "      <td>840.0</td>\n",
       "    </tr>\n",
       "    <tr>\n",
       "      <th>949027</th>\n",
       "      <td>948</td>\n",
       "      <td>2</td>\n",
       "      <td>2013-01-01</td>\n",
       "      <td>4491</td>\n",
       "      <td>1</td>\n",
       "      <td>0</td>\n",
       "      <td>h1</td>\n",
       "      <td>1</td>\n",
       "      <td>Jan</td>\n",
       "      <td>type2</td>\n",
       "      <td>EssentialsPlus</td>\n",
       "      <td>0</td>\n",
       "      <td>1430.0</td>\n",
       "    </tr>\n",
       "    <tr>\n",
       "      <th>949175</th>\n",
       "      <td>1097</td>\n",
       "      <td>2</td>\n",
       "      <td>2013-01-01</td>\n",
       "      <td>5961</td>\n",
       "      <td>1</td>\n",
       "      <td>0</td>\n",
       "      <td>h1</td>\n",
       "      <td>1</td>\n",
       "      <td>Jan</td>\n",
       "      <td>type2</td>\n",
       "      <td>EssentialsPlus</td>\n",
       "      <td>0</td>\n",
       "      <td>720.0</td>\n",
       "    </tr>\n",
       "  </tbody>\n",
       "</table>\n",
       "<p>785781 rows × 13 columns</p>\n",
       "</div>"
      ],
      "text/plain": [
       "        StoreID  DOW       Date  Sales  StoreOpen  PromoFlag HolidayFlag  \\\n",
       "84           85    7 2015-05-31  12040          1          0           0   \n",
       "121         122    7 2015-05-31   2737          1          0           0   \n",
       "208         209    7 2015-05-31   1935          1          0           0   \n",
       "258         259    7 2015-05-31  16944          1          0           0   \n",
       "261         262    7 2015-05-31  32400          1          0           0   \n",
       "...         ...  ...        ...    ...        ...        ...         ...   \n",
       "948761      682    2 2013-01-01   3375          1          0          h1   \n",
       "948812      733    2 2013-01-01  10765          1          0          h1   \n",
       "948848      769    2 2013-01-01   5035          1          0          h1   \n",
       "949027      948    2 2013-01-01   4491          1          0          h1   \n",
       "949175     1097    2 2013-01-01   5961          1          0          h1   \n",
       "\n",
       "        SchUnivClose month LocalityType      ProductMix  PromoCont  \\\n",
       "84                 0   May        type2      Essentials          0   \n",
       "121                0   May        type1    LargeVariety          0   \n",
       "208                0   May        type1    LargeVariety          1   \n",
       "258                0   May        type2  EssentialsPlus          0   \n",
       "261                0   May        type2      Essentials          0   \n",
       "...              ...   ...          ...             ...        ...   \n",
       "948761             1   Jan        type2      Essentials          0   \n",
       "948812             1   Jan        type2  EssentialsPlus          0   \n",
       "948848             1   Jan        type2  EssentialsPlus          1   \n",
       "949027             1   Jan        type2  EssentialsPlus          0   \n",
       "949175             1   Jan        type2  EssentialsPlus          0   \n",
       "\n",
       "        CompetitionDistance  \n",
       "84                   1870.0  \n",
       "121                 58260.0  \n",
       "208                 11680.0  \n",
       "258                   210.0  \n",
       "261                  1180.0  \n",
       "...                     ...  \n",
       "948761                150.0  \n",
       "948812                860.0  \n",
       "948848                840.0  \n",
       "949027               1430.0  \n",
       "949175                720.0  \n",
       "\n",
       "[785781 rows x 13 columns]"
      ]
     },
     "execution_count": 26,
     "metadata": {},
     "output_type": "execute_result"
    }
   ],
   "source": [
    "past_sales_merged[past_sales_merged.StoreOpen == 1]"
   ]
  },
  {
   "cell_type": "code",
   "execution_count": 27,
   "id": "9fb22e72",
   "metadata": {},
   "outputs": [
    {
     "name": "stdout",
     "output_type": "stream",
     "text": [
      "<class 'pandas.core.frame.DataFrame'>\n",
      "Int64Index: 949194 entries, 0 to 949193\n",
      "Data columns (total 32 columns):\n",
      " #   Column                     Non-Null Count   Dtype         \n",
      "---  ------                     --------------   -----         \n",
      " 0   StoreID                    949194 non-null  int64         \n",
      " 1   DOW                        949194 non-null  int64         \n",
      " 2   Date                       949194 non-null  datetime64[ns]\n",
      " 3   Sales                      949194 non-null  int64         \n",
      " 4   StoreOpen                  949194 non-null  int64         \n",
      " 5   PromoFlag                  949194 non-null  int64         \n",
      " 6   SchUnivClose               949194 non-null  int64         \n",
      " 7   PromoCont                  949194 non-null  int64         \n",
      " 8   CompetitionDistance        949194 non-null  float64       \n",
      " 9   HolidayFlag_0              949194 non-null  uint8         \n",
      " 10  HolidayFlag_h1             949194 non-null  uint8         \n",
      " 11  HolidayFlag_h2             949194 non-null  uint8         \n",
      " 12  HolidayFlag_h3             949194 non-null  uint8         \n",
      " 13  month_Apr                  949194 non-null  uint8         \n",
      " 14  month_Aug                  949194 non-null  uint8         \n",
      " 15  month_Dec                  949194 non-null  uint8         \n",
      " 16  month_Feb                  949194 non-null  uint8         \n",
      " 17  month_Jan                  949194 non-null  uint8         \n",
      " 18  month_Jul                  949194 non-null  uint8         \n",
      " 19  month_Jun                  949194 non-null  uint8         \n",
      " 20  month_Mar                  949194 non-null  uint8         \n",
      " 21  month_May                  949194 non-null  uint8         \n",
      " 22  month_Nov                  949194 non-null  uint8         \n",
      " 23  month_Oct                  949194 non-null  uint8         \n",
      " 24  month_Sep                  949194 non-null  uint8         \n",
      " 25  LocalityType_type1         949194 non-null  uint8         \n",
      " 26  LocalityType_type2         949194 non-null  uint8         \n",
      " 27  LocalityType_type3         949194 non-null  uint8         \n",
      " 28  LocalityType_type4         949194 non-null  uint8         \n",
      " 29  ProductMix_Essentials      949194 non-null  uint8         \n",
      " 30  ProductMix_EssentialsPlus  949194 non-null  uint8         \n",
      " 31  ProductMix_LargeVariety    949194 non-null  uint8         \n",
      "dtypes: datetime64[ns](1), float64(1), int64(7), uint8(23)\n",
      "memory usage: 93.2 MB\n"
     ]
    }
   ],
   "source": [
    "dummies= pd.get_dummies(past_sales_merged)\n",
    "dummies.head()\n",
    "dummies.info()"
   ]
  },
  {
   "cell_type": "code",
   "execution_count": 28,
   "id": "40ebf147",
   "metadata": {},
   "outputs": [],
   "source": [
    "input=dummies.drop(['StoreID', 'Date', 'Sales','HolidayFlag_h2','HolidayFlag_h3',\n",
    "                    'month_Jan','month_Apr', 'month_Aug', 'month_Dec',\n",
    "                    'month_Feb', 'month_Mar','month_May', 'month_Nov',\n",
    "                    'month_Oct', 'month_Sep'], axis=1)\n"
   ]
  },
  {
   "cell_type": "code",
   "execution_count": 29,
   "id": "04535aac",
   "metadata": {},
   "outputs": [],
   "source": [
    "target=dummies['Sales']"
   ]
  },
  {
   "cell_type": "code",
   "execution_count": 30,
   "id": "001f9808",
   "metadata": {},
   "outputs": [
    {
     "name": "stdout",
     "output_type": "stream",
     "text": [
      "<class 'pandas.core.frame.DataFrame'>\n",
      "Int64Index: 949194 entries, 0 to 949193\n",
      "Data columns (total 17 columns):\n",
      " #   Column                     Non-Null Count   Dtype  \n",
      "---  ------                     --------------   -----  \n",
      " 0   DOW                        949194 non-null  int64  \n",
      " 1   StoreOpen                  949194 non-null  int64  \n",
      " 2   PromoFlag                  949194 non-null  int64  \n",
      " 3   SchUnivClose               949194 non-null  int64  \n",
      " 4   PromoCont                  949194 non-null  int64  \n",
      " 5   CompetitionDistance        949194 non-null  float64\n",
      " 6   HolidayFlag_0              949194 non-null  uint8  \n",
      " 7   HolidayFlag_h1             949194 non-null  uint8  \n",
      " 8   month_Jul                  949194 non-null  uint8  \n",
      " 9   month_Jun                  949194 non-null  uint8  \n",
      " 10  LocalityType_type1         949194 non-null  uint8  \n",
      " 11  LocalityType_type2         949194 non-null  uint8  \n",
      " 12  LocalityType_type3         949194 non-null  uint8  \n",
      " 13  LocalityType_type4         949194 non-null  uint8  \n",
      " 14  ProductMix_Essentials      949194 non-null  uint8  \n",
      " 15  ProductMix_EssentialsPlus  949194 non-null  uint8  \n",
      " 16  ProductMix_LargeVariety    949194 non-null  uint8  \n",
      "dtypes: float64(1), int64(5), uint8(11)\n",
      "memory usage: 60.6 MB\n"
     ]
    }
   ],
   "source": [
    "input.info()"
   ]
  },
  {
   "cell_type": "code",
   "execution_count": 31,
   "id": "7d16c49f",
   "metadata": {},
   "outputs": [
    {
     "data": {
      "text/plain": [
       "((759355, 17), (189839, 17), (759355,), (189839,))"
      ]
     },
     "execution_count": 31,
     "metadata": {},
     "output_type": "execute_result"
    }
   ],
   "source": [
    "from sklearn.model_selection import train_test_split\n",
    "train_x, validate_x, train_y, validate_y = train_test_split(input,\n",
    "                                                            target,\n",
    "                                                            test_size=0.2,\n",
    "                                                            random_state=21)\n",
    "train_x.shape, validate_x.shape, train_y.shape, validate_y.shape"
   ]
  },
  {
   "cell_type": "code",
   "execution_count": 32,
   "id": "850ab154",
   "metadata": {},
   "outputs": [],
   "source": [
    "from sklearn.preprocessing import StandardScaler\n",
    "scaler = StandardScaler().fit(train_x)\n",
    "train_x_scaled = scaler.transform(train_x)\n",
    "validate_x_scaled = scaler.transform(validate_x)"
   ]
  },
  {
   "cell_type": "code",
   "execution_count": 33,
   "id": "2e8bed54",
   "metadata": {},
   "outputs": [],
   "source": [
    "from sklearn.linear_model import LinearRegression\n",
    "from sklearn.tree import DecisionTreeRegressor\n",
    "from sklearn.ensemble import RandomForestRegressor"
   ]
  },
  {
   "cell_type": "code",
   "execution_count": 34,
   "id": "c23c9809",
   "metadata": {},
   "outputs": [
    {
     "data": {
      "text/plain": [
       "2535.7134362986903"
      ]
     },
     "execution_count": 34,
     "metadata": {},
     "output_type": "execute_result"
    }
   ],
   "source": [
    "from sklearn.metrics import mean_squared_error\n",
    "linear_model = LinearRegression().fit(train_x_scaled, train_y)\n",
    "validate_y_pred = linear_model.predict(validate_x_scaled)\n",
    "rmse = mean_squared_error(validate_y, validate_y_pred, squared=False)\n",
    "rmse"
   ]
  },
  {
   "cell_type": "code",
   "execution_count": 35,
   "id": "7c3cd150",
   "metadata": {},
   "outputs": [
    {
     "data": {
      "text/plain": [
       "1296.1134625165134"
      ]
     },
     "execution_count": 35,
     "metadata": {},
     "output_type": "execute_result"
    }
   ],
   "source": [
    "rf_model = RandomForestRegressor(n_jobs=-1, random_state=42).fit(input, target)\n",
    "validate_y_pred = rf_model.predict(validate_x)\n",
    "rmse = mean_squared_error(validate_y, validate_y_pred, squared=False)\n",
    "rmse"
   ]
  },
  {
   "cell_type": "code",
   "execution_count": 36,
   "id": "d8fb1a84",
   "metadata": {},
   "outputs": [
    {
     "data": {
      "text/plain": [
       "1296.4381799597152"
      ]
     },
     "execution_count": 36,
     "metadata": {},
     "output_type": "execute_result"
    }
   ],
   "source": [
    "rf_model = RandomForestRegressor(n_jobs=-1, random_state=40).fit(input, target)\n",
    "validate_y_pred = rf_model.predict(validate_x)\n",
    "rmse = mean_squared_error(validate_y, validate_y_pred, squared=False)\n",
    "rmse"
   ]
  },
  {
   "cell_type": "code",
   "execution_count": 37,
   "id": "a6d73be9",
   "metadata": {
    "scrolled": true
   },
   "outputs": [
    {
     "data": {
      "text/plain": [
       "1296.4381799597152"
      ]
     },
     "execution_count": 37,
     "metadata": {},
     "output_type": "execute_result"
    }
   ],
   "source": [
    "validate_y_pred = rf_model.predict(validate_x)\n",
    "rmse = mean_squared_error(validate_y, validate_y_pred, squared=False)\n",
    "rmse"
   ]
  },
  {
   "cell_type": "code",
   "execution_count": 42,
   "id": "9348799c",
   "metadata": {},
   "outputs": [],
   "source": [
    "future_sales = pd.read_csv('test_1.csv', low_memory=False)\n",
    "future_sales['Date'] = pd.to_datetime(future_sales['Date'], format='%d-%m-%Y')\n",
    "future_sales['HolidayFlag'] = future_sales['HolidayFlag'].replace({0:'0'})\n",
    "future_sales['month'] = future_sales['Date'].dt.strftime('%b')\n",
    "future_sales_merged = pd.merge(left=future_sales, right=store.drop(drop_cols, axis=1),\n",
    "                             on='StoreID', how='left')"
   ]
  },
  {
   "cell_type": "code",
   "execution_count": 43,
   "id": "86282c58",
   "metadata": {},
   "outputs": [
    {
     "name": "stdout",
     "output_type": "stream",
     "text": [
      "<class 'pandas.core.frame.DataFrame'>\n",
      "Int64Index: 54663 entries, 0 to 54662\n",
      "Data columns (total 13 columns):\n",
      " #   Column               Non-Null Count  Dtype         \n",
      "---  ------               --------------  -----         \n",
      " 0   Id                   54663 non-null  int64         \n",
      " 1   StoreID              54663 non-null  int64         \n",
      " 2   DOW                  54663 non-null  int64         \n",
      " 3   Date                 54663 non-null  datetime64[ns]\n",
      " 4   StoreOpen            54663 non-null  int64         \n",
      " 5   PromoFlag            54663 non-null  int64         \n",
      " 6   HolidayFlag          54663 non-null  object        \n",
      " 7   SchUnivClose         54663 non-null  int64         \n",
      " 8   month                54663 non-null  object        \n",
      " 9   LocalityType         54663 non-null  object        \n",
      " 10  ProductMix           54663 non-null  object        \n",
      " 11  PromoCont            54663 non-null  int64         \n",
      " 12  CompetitionDistance  54663 non-null  float64       \n",
      "dtypes: datetime64[ns](1), float64(1), int64(7), object(4)\n",
      "memory usage: 5.8+ MB\n"
     ]
    }
   ],
   "source": [
    "future_sales_merged.info()"
   ]
  },
  {
   "cell_type": "code",
   "execution_count": 44,
   "id": "59e0ee41",
   "metadata": {},
   "outputs": [
    {
     "data": {
      "text/html": [
       "<div>\n",
       "<style scoped>\n",
       "    .dataframe tbody tr th:only-of-type {\n",
       "        vertical-align: middle;\n",
       "    }\n",
       "\n",
       "    .dataframe tbody tr th {\n",
       "        vertical-align: top;\n",
       "    }\n",
       "\n",
       "    .dataframe thead th {\n",
       "        text-align: right;\n",
       "    }\n",
       "</style>\n",
       "<table border=\"1\" class=\"dataframe\">\n",
       "  <thead>\n",
       "    <tr style=\"text-align: right;\">\n",
       "      <th></th>\n",
       "      <th>Id</th>\n",
       "      <th>StoreID</th>\n",
       "      <th>DOW</th>\n",
       "      <th>Date</th>\n",
       "      <th>StoreOpen</th>\n",
       "      <th>PromoFlag</th>\n",
       "      <th>HolidayFlag</th>\n",
       "      <th>SchUnivClose</th>\n",
       "      <th>month</th>\n",
       "      <th>LocalityType</th>\n",
       "      <th>ProductMix</th>\n",
       "      <th>PromoCont</th>\n",
       "      <th>CompetitionDistance</th>\n",
       "    </tr>\n",
       "  </thead>\n",
       "  <tbody>\n",
       "    <tr>\n",
       "      <th>0</th>\n",
       "      <td>1</td>\n",
       "      <td>1</td>\n",
       "      <td>5</td>\n",
       "      <td>2015-07-31</td>\n",
       "      <td>1</td>\n",
       "      <td>1</td>\n",
       "      <td>0</td>\n",
       "      <td>1</td>\n",
       "      <td>Jul</td>\n",
       "      <td>type3</td>\n",
       "      <td>Essentials</td>\n",
       "      <td>0</td>\n",
       "      <td>1270.0</td>\n",
       "    </tr>\n",
       "    <tr>\n",
       "      <th>1</th>\n",
       "      <td>2</td>\n",
       "      <td>2</td>\n",
       "      <td>5</td>\n",
       "      <td>2015-07-31</td>\n",
       "      <td>1</td>\n",
       "      <td>1</td>\n",
       "      <td>0</td>\n",
       "      <td>1</td>\n",
       "      <td>Jul</td>\n",
       "      <td>type1</td>\n",
       "      <td>Essentials</td>\n",
       "      <td>1</td>\n",
       "      <td>570.0</td>\n",
       "    </tr>\n",
       "    <tr>\n",
       "      <th>2</th>\n",
       "      <td>3</td>\n",
       "      <td>3</td>\n",
       "      <td>5</td>\n",
       "      <td>2015-07-31</td>\n",
       "      <td>1</td>\n",
       "      <td>1</td>\n",
       "      <td>0</td>\n",
       "      <td>1</td>\n",
       "      <td>Jul</td>\n",
       "      <td>type1</td>\n",
       "      <td>Essentials</td>\n",
       "      <td>1</td>\n",
       "      <td>14130.0</td>\n",
       "    </tr>\n",
       "    <tr>\n",
       "      <th>3</th>\n",
       "      <td>4</td>\n",
       "      <td>4</td>\n",
       "      <td>5</td>\n",
       "      <td>2015-07-31</td>\n",
       "      <td>1</td>\n",
       "      <td>1</td>\n",
       "      <td>0</td>\n",
       "      <td>1</td>\n",
       "      <td>Jul</td>\n",
       "      <td>type3</td>\n",
       "      <td>LargeVariety</td>\n",
       "      <td>0</td>\n",
       "      <td>620.0</td>\n",
       "    </tr>\n",
       "    <tr>\n",
       "      <th>4</th>\n",
       "      <td>5</td>\n",
       "      <td>5</td>\n",
       "      <td>5</td>\n",
       "      <td>2015-07-31</td>\n",
       "      <td>1</td>\n",
       "      <td>1</td>\n",
       "      <td>0</td>\n",
       "      <td>1</td>\n",
       "      <td>Jul</td>\n",
       "      <td>type1</td>\n",
       "      <td>Essentials</td>\n",
       "      <td>0</td>\n",
       "      <td>29910.0</td>\n",
       "    </tr>\n",
       "    <tr>\n",
       "      <th>...</th>\n",
       "      <td>...</td>\n",
       "      <td>...</td>\n",
       "      <td>...</td>\n",
       "      <td>...</td>\n",
       "      <td>...</td>\n",
       "      <td>...</td>\n",
       "      <td>...</td>\n",
       "      <td>...</td>\n",
       "      <td>...</td>\n",
       "      <td>...</td>\n",
       "      <td>...</td>\n",
       "      <td>...</td>\n",
       "      <td>...</td>\n",
       "    </tr>\n",
       "    <tr>\n",
       "      <th>54658</th>\n",
       "      <td>54659</td>\n",
       "      <td>1108</td>\n",
       "      <td>1</td>\n",
       "      <td>2015-06-01</td>\n",
       "      <td>1</td>\n",
       "      <td>1</td>\n",
       "      <td>0</td>\n",
       "      <td>0</td>\n",
       "      <td>Jun</td>\n",
       "      <td>type1</td>\n",
       "      <td>Essentials</td>\n",
       "      <td>0</td>\n",
       "      <td>540.0</td>\n",
       "    </tr>\n",
       "    <tr>\n",
       "      <th>54659</th>\n",
       "      <td>54660</td>\n",
       "      <td>1109</td>\n",
       "      <td>1</td>\n",
       "      <td>2015-06-01</td>\n",
       "      <td>1</td>\n",
       "      <td>1</td>\n",
       "      <td>0</td>\n",
       "      <td>1</td>\n",
       "      <td>Jun</td>\n",
       "      <td>type3</td>\n",
       "      <td>Essentials</td>\n",
       "      <td>1</td>\n",
       "      <td>3490.0</td>\n",
       "    </tr>\n",
       "    <tr>\n",
       "      <th>54660</th>\n",
       "      <td>54661</td>\n",
       "      <td>1110</td>\n",
       "      <td>1</td>\n",
       "      <td>2015-06-01</td>\n",
       "      <td>1</td>\n",
       "      <td>1</td>\n",
       "      <td>0</td>\n",
       "      <td>0</td>\n",
       "      <td>Jun</td>\n",
       "      <td>type3</td>\n",
       "      <td>LargeVariety</td>\n",
       "      <td>0</td>\n",
       "      <td>900.0</td>\n",
       "    </tr>\n",
       "    <tr>\n",
       "      <th>54661</th>\n",
       "      <td>54662</td>\n",
       "      <td>1111</td>\n",
       "      <td>1</td>\n",
       "      <td>2015-06-01</td>\n",
       "      <td>1</td>\n",
       "      <td>1</td>\n",
       "      <td>0</td>\n",
       "      <td>0</td>\n",
       "      <td>Jun</td>\n",
       "      <td>type1</td>\n",
       "      <td>Essentials</td>\n",
       "      <td>1</td>\n",
       "      <td>1900.0</td>\n",
       "    </tr>\n",
       "    <tr>\n",
       "      <th>54662</th>\n",
       "      <td>54663</td>\n",
       "      <td>1113</td>\n",
       "      <td>1</td>\n",
       "      <td>2015-06-01</td>\n",
       "      <td>1</td>\n",
       "      <td>1</td>\n",
       "      <td>0</td>\n",
       "      <td>0</td>\n",
       "      <td>Jun</td>\n",
       "      <td>type1</td>\n",
       "      <td>LargeVariety</td>\n",
       "      <td>0</td>\n",
       "      <td>9260.0</td>\n",
       "    </tr>\n",
       "  </tbody>\n",
       "</table>\n",
       "<p>54663 rows × 13 columns</p>\n",
       "</div>"
      ],
      "text/plain": [
       "          Id  StoreID  DOW       Date  StoreOpen  PromoFlag HolidayFlag  \\\n",
       "0          1        1    5 2015-07-31          1          1           0   \n",
       "1          2        2    5 2015-07-31          1          1           0   \n",
       "2          3        3    5 2015-07-31          1          1           0   \n",
       "3          4        4    5 2015-07-31          1          1           0   \n",
       "4          5        5    5 2015-07-31          1          1           0   \n",
       "...      ...      ...  ...        ...        ...        ...         ...   \n",
       "54658  54659     1108    1 2015-06-01          1          1           0   \n",
       "54659  54660     1109    1 2015-06-01          1          1           0   \n",
       "54660  54661     1110    1 2015-06-01          1          1           0   \n",
       "54661  54662     1111    1 2015-06-01          1          1           0   \n",
       "54662  54663     1113    1 2015-06-01          1          1           0   \n",
       "\n",
       "       SchUnivClose month LocalityType    ProductMix  PromoCont  \\\n",
       "0                 1   Jul        type3    Essentials          0   \n",
       "1                 1   Jul        type1    Essentials          1   \n",
       "2                 1   Jul        type1    Essentials          1   \n",
       "3                 1   Jul        type3  LargeVariety          0   \n",
       "4                 1   Jul        type1    Essentials          0   \n",
       "...             ...   ...          ...           ...        ...   \n",
       "54658             0   Jun        type1    Essentials          0   \n",
       "54659             1   Jun        type3    Essentials          1   \n",
       "54660             0   Jun        type3  LargeVariety          0   \n",
       "54661             0   Jun        type1    Essentials          1   \n",
       "54662             0   Jun        type1  LargeVariety          0   \n",
       "\n",
       "       CompetitionDistance  \n",
       "0                   1270.0  \n",
       "1                    570.0  \n",
       "2                  14130.0  \n",
       "3                    620.0  \n",
       "4                  29910.0  \n",
       "...                    ...  \n",
       "54658                540.0  \n",
       "54659               3490.0  \n",
       "54660                900.0  \n",
       "54661               1900.0  \n",
       "54662               9260.0  \n",
       "\n",
       "[54663 rows x 13 columns]"
      ]
     },
     "execution_count": 44,
     "metadata": {},
     "output_type": "execute_result"
    }
   ],
   "source": [
    "future_sales_merged[future_sales_merged.StoreOpen == 1]"
   ]
  },
  {
   "cell_type": "code",
   "execution_count": null,
   "id": "66240402",
   "metadata": {},
   "outputs": [],
   "source": []
  },
  {
   "cell_type": "code",
   "execution_count": 45,
   "id": "7a21ae5c",
   "metadata": {},
   "outputs": [
    {
     "name": "stdout",
     "output_type": "stream",
     "text": [
      "<class 'pandas.core.frame.DataFrame'>\n",
      "Int64Index: 54663 entries, 0 to 54662\n",
      "Data columns (total 20 columns):\n",
      " #   Column                     Non-Null Count  Dtype         \n",
      "---  ------                     --------------  -----         \n",
      " 0   Id                         54663 non-null  int64         \n",
      " 1   StoreID                    54663 non-null  int64         \n",
      " 2   DOW                        54663 non-null  int64         \n",
      " 3   Date                       54663 non-null  datetime64[ns]\n",
      " 4   StoreOpen                  54663 non-null  int64         \n",
      " 5   PromoFlag                  54663 non-null  int64         \n",
      " 6   SchUnivClose               54663 non-null  int64         \n",
      " 7   PromoCont                  54663 non-null  int64         \n",
      " 8   CompetitionDistance        54663 non-null  float64       \n",
      " 9   HolidayFlag_0              54663 non-null  uint8         \n",
      " 10  HolidayFlag_h1             54663 non-null  uint8         \n",
      " 11  month_Jul                  54663 non-null  uint8         \n",
      " 12  month_Jun                  54663 non-null  uint8         \n",
      " 13  LocalityType_type1         54663 non-null  uint8         \n",
      " 14  LocalityType_type2         54663 non-null  uint8         \n",
      " 15  LocalityType_type3         54663 non-null  uint8         \n",
      " 16  LocalityType_type4         54663 non-null  uint8         \n",
      " 17  ProductMix_Essentials      54663 non-null  uint8         \n",
      " 18  ProductMix_EssentialsPlus  54663 non-null  uint8         \n",
      " 19  ProductMix_LargeVariety    54663 non-null  uint8         \n",
      "dtypes: datetime64[ns](1), float64(1), int64(7), uint8(11)\n",
      "memory usage: 4.7 MB\n"
     ]
    }
   ],
   "source": [
    "dummies_test= pd.get_dummies(future_sales_merged)\n",
    "dummies_test.head()\n",
    "dummies_test.info()"
   ]
  },
  {
   "cell_type": "code",
   "execution_count": 46,
   "id": "d176b974",
   "metadata": {},
   "outputs": [
    {
     "data": {
      "text/html": [
       "<div>\n",
       "<style scoped>\n",
       "    .dataframe tbody tr th:only-of-type {\n",
       "        vertical-align: middle;\n",
       "    }\n",
       "\n",
       "    .dataframe tbody tr th {\n",
       "        vertical-align: top;\n",
       "    }\n",
       "\n",
       "    .dataframe thead th {\n",
       "        text-align: right;\n",
       "    }\n",
       "</style>\n",
       "<table border=\"1\" class=\"dataframe\">\n",
       "  <thead>\n",
       "    <tr style=\"text-align: right;\">\n",
       "      <th></th>\n",
       "      <th>DOW</th>\n",
       "      <th>StoreOpen</th>\n",
       "      <th>PromoFlag</th>\n",
       "      <th>SchUnivClose</th>\n",
       "      <th>PromoCont</th>\n",
       "      <th>CompetitionDistance</th>\n",
       "      <th>HolidayFlag_0</th>\n",
       "      <th>HolidayFlag_h1</th>\n",
       "      <th>month_Jul</th>\n",
       "      <th>month_Jun</th>\n",
       "      <th>LocalityType_type1</th>\n",
       "      <th>LocalityType_type2</th>\n",
       "      <th>LocalityType_type3</th>\n",
       "      <th>LocalityType_type4</th>\n",
       "      <th>ProductMix_Essentials</th>\n",
       "      <th>ProductMix_EssentialsPlus</th>\n",
       "      <th>ProductMix_LargeVariety</th>\n",
       "    </tr>\n",
       "  </thead>\n",
       "  <tbody>\n",
       "    <tr>\n",
       "      <th>0</th>\n",
       "      <td>5</td>\n",
       "      <td>1</td>\n",
       "      <td>1</td>\n",
       "      <td>1</td>\n",
       "      <td>0</td>\n",
       "      <td>1270.0</td>\n",
       "      <td>1</td>\n",
       "      <td>0</td>\n",
       "      <td>1</td>\n",
       "      <td>0</td>\n",
       "      <td>0</td>\n",
       "      <td>0</td>\n",
       "      <td>1</td>\n",
       "      <td>0</td>\n",
       "      <td>1</td>\n",
       "      <td>0</td>\n",
       "      <td>0</td>\n",
       "    </tr>\n",
       "    <tr>\n",
       "      <th>1</th>\n",
       "      <td>5</td>\n",
       "      <td>1</td>\n",
       "      <td>1</td>\n",
       "      <td>1</td>\n",
       "      <td>1</td>\n",
       "      <td>570.0</td>\n",
       "      <td>1</td>\n",
       "      <td>0</td>\n",
       "      <td>1</td>\n",
       "      <td>0</td>\n",
       "      <td>1</td>\n",
       "      <td>0</td>\n",
       "      <td>0</td>\n",
       "      <td>0</td>\n",
       "      <td>1</td>\n",
       "      <td>0</td>\n",
       "      <td>0</td>\n",
       "    </tr>\n",
       "    <tr>\n",
       "      <th>2</th>\n",
       "      <td>5</td>\n",
       "      <td>1</td>\n",
       "      <td>1</td>\n",
       "      <td>1</td>\n",
       "      <td>1</td>\n",
       "      <td>14130.0</td>\n",
       "      <td>1</td>\n",
       "      <td>0</td>\n",
       "      <td>1</td>\n",
       "      <td>0</td>\n",
       "      <td>1</td>\n",
       "      <td>0</td>\n",
       "      <td>0</td>\n",
       "      <td>0</td>\n",
       "      <td>1</td>\n",
       "      <td>0</td>\n",
       "      <td>0</td>\n",
       "    </tr>\n",
       "    <tr>\n",
       "      <th>3</th>\n",
       "      <td>5</td>\n",
       "      <td>1</td>\n",
       "      <td>1</td>\n",
       "      <td>1</td>\n",
       "      <td>0</td>\n",
       "      <td>620.0</td>\n",
       "      <td>1</td>\n",
       "      <td>0</td>\n",
       "      <td>1</td>\n",
       "      <td>0</td>\n",
       "      <td>0</td>\n",
       "      <td>0</td>\n",
       "      <td>1</td>\n",
       "      <td>0</td>\n",
       "      <td>0</td>\n",
       "      <td>0</td>\n",
       "      <td>1</td>\n",
       "    </tr>\n",
       "    <tr>\n",
       "      <th>4</th>\n",
       "      <td>5</td>\n",
       "      <td>1</td>\n",
       "      <td>1</td>\n",
       "      <td>1</td>\n",
       "      <td>0</td>\n",
       "      <td>29910.0</td>\n",
       "      <td>1</td>\n",
       "      <td>0</td>\n",
       "      <td>1</td>\n",
       "      <td>0</td>\n",
       "      <td>1</td>\n",
       "      <td>0</td>\n",
       "      <td>0</td>\n",
       "      <td>0</td>\n",
       "      <td>1</td>\n",
       "      <td>0</td>\n",
       "      <td>0</td>\n",
       "    </tr>\n",
       "  </tbody>\n",
       "</table>\n",
       "</div>"
      ],
      "text/plain": [
       "   DOW  StoreOpen  PromoFlag  SchUnivClose  PromoCont  CompetitionDistance  \\\n",
       "0    5          1          1             1          0               1270.0   \n",
       "1    5          1          1             1          1                570.0   \n",
       "2    5          1          1             1          1              14130.0   \n",
       "3    5          1          1             1          0                620.0   \n",
       "4    5          1          1             1          0              29910.0   \n",
       "\n",
       "   HolidayFlag_0  HolidayFlag_h1  month_Jul  month_Jun  LocalityType_type1  \\\n",
       "0              1               0          1          0                   0   \n",
       "1              1               0          1          0                   1   \n",
       "2              1               0          1          0                   1   \n",
       "3              1               0          1          0                   0   \n",
       "4              1               0          1          0                   1   \n",
       "\n",
       "   LocalityType_type2  LocalityType_type3  LocalityType_type4  \\\n",
       "0                   0                   1                   0   \n",
       "1                   0                   0                   0   \n",
       "2                   0                   0                   0   \n",
       "3                   0                   1                   0   \n",
       "4                   0                   0                   0   \n",
       "\n",
       "   ProductMix_Essentials  ProductMix_EssentialsPlus  ProductMix_LargeVariety  \n",
       "0                      1                          0                        0  \n",
       "1                      1                          0                        0  \n",
       "2                      1                          0                        0  \n",
       "3                      0                          0                        1  \n",
       "4                      1                          0                        0  "
      ]
     },
     "execution_count": 46,
     "metadata": {},
     "output_type": "execute_result"
    }
   ],
   "source": [
    "input1=dummies_test.drop(['Id','StoreID', 'Date'], axis=1)\n",
    "input1.head()"
   ]
  },
  {
   "cell_type": "code",
   "execution_count": 47,
   "id": "df2b67fd",
   "metadata": {},
   "outputs": [
    {
     "name": "stdout",
     "output_type": "stream",
     "text": [
      "HolidayFlag_h2\n",
      "HolidayFlag_h3\n",
      "Sales\n",
      "month_Apr\n",
      "month_Aug\n",
      "month_Dec\n",
      "month_Feb\n",
      "month_Jan\n",
      "month_Mar\n",
      "month_May\n",
      "month_Nov\n",
      "month_Oct\n",
      "month_Sep\n"
     ]
    },
    {
     "data": {
      "text/plain": [
       "((949194, 32), (54663, 32))"
      ]
     },
     "execution_count": 47,
     "metadata": {},
     "output_type": "execute_result"
    }
   ],
   "source": [
    "missing_levels = np.setdiff1d(dummies.columns, dummies_test.columns)\n",
    "for level in missing_levels:\n",
    "    print(level)\n",
    "    if level != 'Sales':\n",
    "        dummies_test[level] = 0\n",
    "dummies.shape, dummies_test.shape"
   ]
  },
  {
   "cell_type": "code",
   "execution_count": 48,
   "id": "757fee02",
   "metadata": {},
   "outputs": [
    {
     "name": "stdout",
     "output_type": "stream",
     "text": [
      "<class 'pandas.core.frame.DataFrame'>\n",
      "Int64Index: 949194 entries, 0 to 949193\n",
      "Data columns (total 17 columns):\n",
      " #   Column                     Non-Null Count   Dtype  \n",
      "---  ------                     --------------   -----  \n",
      " 0   DOW                        949194 non-null  int64  \n",
      " 1   StoreOpen                  949194 non-null  int64  \n",
      " 2   PromoFlag                  949194 non-null  int64  \n",
      " 3   SchUnivClose               949194 non-null  int64  \n",
      " 4   PromoCont                  949194 non-null  int64  \n",
      " 5   CompetitionDistance        949194 non-null  float64\n",
      " 6   HolidayFlag_0              949194 non-null  uint8  \n",
      " 7   HolidayFlag_h1             949194 non-null  uint8  \n",
      " 8   month_Jul                  949194 non-null  uint8  \n",
      " 9   month_Jun                  949194 non-null  uint8  \n",
      " 10  LocalityType_type1         949194 non-null  uint8  \n",
      " 11  LocalityType_type2         949194 non-null  uint8  \n",
      " 12  LocalityType_type3         949194 non-null  uint8  \n",
      " 13  LocalityType_type4         949194 non-null  uint8  \n",
      " 14  ProductMix_Essentials      949194 non-null  uint8  \n",
      " 15  ProductMix_EssentialsPlus  949194 non-null  uint8  \n",
      " 16  ProductMix_LargeVariety    949194 non-null  uint8  \n",
      "dtypes: float64(1), int64(5), uint8(11)\n",
      "memory usage: 60.6 MB\n"
     ]
    }
   ],
   "source": [
    "input.info()"
   ]
  },
  {
   "cell_type": "code",
   "execution_count": 49,
   "id": "c0071cb0",
   "metadata": {},
   "outputs": [
    {
     "name": "stdout",
     "output_type": "stream",
     "text": [
      "<class 'pandas.core.frame.DataFrame'>\n",
      "Int64Index: 54663 entries, 0 to 54662\n",
      "Data columns (total 17 columns):\n",
      " #   Column                     Non-Null Count  Dtype  \n",
      "---  ------                     --------------  -----  \n",
      " 0   DOW                        54663 non-null  int64  \n",
      " 1   StoreOpen                  54663 non-null  int64  \n",
      " 2   PromoFlag                  54663 non-null  int64  \n",
      " 3   SchUnivClose               54663 non-null  int64  \n",
      " 4   PromoCont                  54663 non-null  int64  \n",
      " 5   CompetitionDistance        54663 non-null  float64\n",
      " 6   HolidayFlag_0              54663 non-null  uint8  \n",
      " 7   HolidayFlag_h1             54663 non-null  uint8  \n",
      " 8   month_Jul                  54663 non-null  uint8  \n",
      " 9   month_Jun                  54663 non-null  uint8  \n",
      " 10  LocalityType_type1         54663 non-null  uint8  \n",
      " 11  LocalityType_type2         54663 non-null  uint8  \n",
      " 12  LocalityType_type3         54663 non-null  uint8  \n",
      " 13  LocalityType_type4         54663 non-null  uint8  \n",
      " 14  ProductMix_Essentials      54663 non-null  uint8  \n",
      " 15  ProductMix_EssentialsPlus  54663 non-null  uint8  \n",
      " 16  ProductMix_LargeVariety    54663 non-null  uint8  \n",
      "dtypes: float64(1), int64(5), uint8(11)\n",
      "memory usage: 3.5 MB\n"
     ]
    }
   ],
   "source": [
    "input1.info()"
   ]
  },
  {
   "cell_type": "code",
   "execution_count": 50,
   "id": "8b822f39",
   "metadata": {},
   "outputs": [
    {
     "data": {
      "text/plain": [
       "array([7611.39821001, 4960.5030471 , 7194.50439286, ..., 7224.30547222,\n",
       "       8917.14277778, 9426.14825869])"
      ]
     },
     "execution_count": 50,
     "metadata": {},
     "output_type": "execute_result"
    }
   ],
   "source": [
    "test_y_pred = rf_model.predict(input1)\n",
    "test_y_pred"
   ]
  },
  {
   "cell_type": "code",
   "execution_count": 51,
   "id": "bb3d47f9",
   "metadata": {},
   "outputs": [
    {
     "data": {
      "text/plain": [
       "<AxesSubplot:ylabel='Frequency'>"
      ]
     },
     "execution_count": 51,
     "metadata": {},
     "output_type": "execute_result"
    },
    {
     "data": {
      "image/png": "[encoded data removed]",
      "text/plain": [
       "<Figure size 432x288 with 1 Axes>"
      ]
     },
     "metadata": {
      "needs_background": "light"
     },
     "output_type": "display_data"
    }
   ],
   "source": [
    "pd.Series(test_y_pred).plot.hist()\n"
   ]
  },
  {
   "cell_type": "code",
   "execution_count": 52,
   "id": "4b3d41bd",
   "metadata": {},
   "outputs": [
    {
     "data": {
      "text/html": [
       "<div>\n",
       "<style scoped>\n",
       "    .dataframe tbody tr th:only-of-type {\n",
       "        vertical-align: middle;\n",
       "    }\n",
       "\n",
       "    .dataframe tbody tr th {\n",
       "        vertical-align: top;\n",
       "    }\n",
       "\n",
       "    .dataframe thead th {\n",
       "        text-align: right;\n",
       "    }\n",
       "</style>\n",
       "<table border=\"1\" class=\"dataframe\">\n",
       "  <thead>\n",
       "    <tr style=\"text-align: right;\">\n",
       "      <th></th>\n",
       "      <th>Id</th>\n",
       "      <th>Sales</th>\n",
       "    </tr>\n",
       "  </thead>\n",
       "  <tbody>\n",
       "    <tr>\n",
       "      <th>0</th>\n",
       "      <td>1</td>\n",
       "      <td>6500</td>\n",
       "    </tr>\n",
       "    <tr>\n",
       "      <th>1</th>\n",
       "      <td>2</td>\n",
       "      <td>6500</td>\n",
       "    </tr>\n",
       "    <tr>\n",
       "      <th>2</th>\n",
       "      <td>3</td>\n",
       "      <td>6500</td>\n",
       "    </tr>\n",
       "    <tr>\n",
       "      <th>3</th>\n",
       "      <td>4</td>\n",
       "      <td>6500</td>\n",
       "    </tr>\n",
       "    <tr>\n",
       "      <th>4</th>\n",
       "      <td>5</td>\n",
       "      <td>6500</td>\n",
       "    </tr>\n",
       "  </tbody>\n",
       "</table>\n",
       "</div>"
      ],
      "text/plain": [
       "   Id  Sales\n",
       "0   1   6500\n",
       "1   2   6500\n",
       "2   3   6500\n",
       "3   4   6500\n",
       "4   5   6500"
      ]
     },
     "execution_count": 52,
     "metadata": {},
     "output_type": "execute_result"
    }
   ],
   "source": [
    "sample_submission = pd.read_csv('sample submission.csv')\n",
    "sample_submission.head()"
   ]
  },
  {
   "cell_type": "code",
   "execution_count": 53,
   "id": "b24558f1",
   "metadata": {},
   "outputs": [
    {
     "data": {
      "text/html": [
       "<div>\n",
       "<style scoped>\n",
       "    .dataframe tbody tr th:only-of-type {\n",
       "        vertical-align: middle;\n",
       "    }\n",
       "\n",
       "    .dataframe tbody tr th {\n",
       "        vertical-align: top;\n",
       "    }\n",
       "\n",
       "    .dataframe thead th {\n",
       "        text-align: right;\n",
       "    }\n",
       "</style>\n",
       "<table border=\"1\" class=\"dataframe\">\n",
       "  <thead>\n",
       "    <tr style=\"text-align: right;\">\n",
       "      <th></th>\n",
       "      <th>Id</th>\n",
       "      <th>Sales</th>\n",
       "    </tr>\n",
       "  </thead>\n",
       "  <tbody>\n",
       "    <tr>\n",
       "      <th>0</th>\n",
       "      <td>1</td>\n",
       "      <td>7611.398210</td>\n",
       "    </tr>\n",
       "    <tr>\n",
       "      <th>1</th>\n",
       "      <td>2</td>\n",
       "      <td>4960.503047</td>\n",
       "    </tr>\n",
       "    <tr>\n",
       "      <th>2</th>\n",
       "      <td>3</td>\n",
       "      <td>7194.504393</td>\n",
       "    </tr>\n",
       "    <tr>\n",
       "      <th>3</th>\n",
       "      <td>4</td>\n",
       "      <td>8810.785478</td>\n",
       "    </tr>\n",
       "    <tr>\n",
       "      <th>4</th>\n",
       "      <td>5</td>\n",
       "      <td>6048.933395</td>\n",
       "    </tr>\n",
       "  </tbody>\n",
       "</table>\n",
       "</div>"
      ],
      "text/plain": [
       "   Id        Sales\n",
       "0   1  7611.398210\n",
       "1   2  4960.503047\n",
       "2   3  7194.504393\n",
       "3   4  8810.785478\n",
       "4   5  6048.933395"
      ]
     },
     "execution_count": 53,
     "metadata": {},
     "output_type": "execute_result"
    }
   ],
   "source": [
    "submission = pd.DataFrame({\n",
    "    'Id': future_sales['Id'],\n",
    "    'Sales': test_y_pred\n",
    "})\n",
    "submission.head()"
   ]
  },
  {
   "cell_type": "code",
   "execution_count": 54,
   "id": "4251b1be",
   "metadata": {},
   "outputs": [],
   "source": [
    "submission.to_csv('submissionfinalML.csv', index=False)"
   ]
  },
  {
   "cell_type": "code",
   "execution_count": null,
   "id": "d467d4a5",
   "metadata": {},
   "outputs": [],
   "source": []
  }
 ],
 "metadata": {
  "kernelspec": {
   "display_name": "Python 3",
   "language": "python",
   "name": "python3"
  },
  "language_info": {
   "codemirror_mode": {
    "name": "ipython",
    "version": 3
   },
   "file_extension": ".py",
   "mimetype": "text/x-python",
   "name": "python",
   "nbconvert_exporter": "python",
   "pygments_lexer": "ipython3",
   "version": "3.8.8"
  }
 },
 "nbformat": 4,
 "nbformat_minor": 5
}
